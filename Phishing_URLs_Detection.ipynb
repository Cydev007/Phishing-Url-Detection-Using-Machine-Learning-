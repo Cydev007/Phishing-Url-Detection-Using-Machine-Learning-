{
 "cells": [
  {
   "cell_type": "code",
   "execution_count": 1,
   "id": "9bb81098",
   "metadata": {},
   "outputs": [],
   "source": [
    "import pandas as pd # use for data manipulation and analysis\n",
    "import numpy as np # use for multi-dimensional array and matrix\n",
    "\n",
    "import seaborn as sns # use for high-level interface for drawing attractive and informative statistical graphics \n",
    "import matplotlib.pyplot as plt # It provides an object-oriented API for embedding plots into applications\n",
    "\n",
    "%matplotlib inline \n",
    "# It sets the backend of matplotlib to the 'inline' backend:\n",
    "\n",
    "import time # calculate time \n",
    "from sklearn.linear_model import LogisticRegression # algo use to predict good or bad\n",
    "from sklearn.model_selection import train_test_split # spliting the data between feature and target\n",
    "from sklearn.metrics import classification_report # gives whole report about metrics (e.g, recall,precision,f1_score,c_m)\n",
    "from sklearn.metrics import confusion_matrix # gives info about actual and predict\n",
    "from nltk.tokenize import RegexpTokenizer # regexp tokenizers use to split words from text  \n",
    "from nltk.tokenize import word_tokenize\n",
    "from sklearn.feature_extraction.text import CountVectorizer # create sparse matrix of words using regexptokenizes  \n",
    "from sklearn.pipeline import make_pipeline # use for combining all prerocessors techniuqes and algos\n",
    "\n",
    "from bs4 import BeautifulSoup # use for scraping the data from website\n",
    "from selenium import webdriver # use for automation chrome \n",
    "import networkx # for the creation, manipulation, and study of the structure, dynamics, and functions of complex networks.\n",
    "\n",
    "import pickle# use to dump model \n",
    "\n",
    "import warnings # ignores pink warnings \n",
    "warnings.filterwarnings('ignore')"
   ]
  },
  {
   "cell_type": "code",
   "execution_count": 2,
   "id": "566d1012",
   "metadata": {},
   "outputs": [
    {
     "data": {
      "text/html": [
       "<div>\n",
       "<style scoped>\n",
       "    .dataframe tbody tr th:only-of-type {\n",
       "        vertical-align: middle;\n",
       "    }\n",
       "\n",
       "    .dataframe tbody tr th {\n",
       "        vertical-align: top;\n",
       "    }\n",
       "\n",
       "    .dataframe thead th {\n",
       "        text-align: right;\n",
       "    }\n",
       "</style>\n",
       "<table border=\"1\" class=\"dataframe\">\n",
       "  <thead>\n",
       "    <tr style=\"text-align: right;\">\n",
       "      <th></th>\n",
       "      <th>URL</th>\n",
       "      <th>Label</th>\n",
       "    </tr>\n",
       "  </thead>\n",
       "  <tbody>\n",
       "    <tr>\n",
       "      <th>0</th>\n",
       "      <td>nobell.it/70ffb52d079109dca5664cce6f317373782/...</td>\n",
       "      <td>bad</td>\n",
       "    </tr>\n",
       "    <tr>\n",
       "      <th>1</th>\n",
       "      <td>www.dghjdgf.com/paypal.co.uk/cycgi-bin/webscrc...</td>\n",
       "      <td>bad</td>\n",
       "    </tr>\n",
       "    <tr>\n",
       "      <th>2</th>\n",
       "      <td>serviciosbys.com/paypal.cgi.bin.get-into.herf....</td>\n",
       "      <td>bad</td>\n",
       "    </tr>\n",
       "    <tr>\n",
       "      <th>3</th>\n",
       "      <td>mail.printakid.com/www.online.americanexpress....</td>\n",
       "      <td>bad</td>\n",
       "    </tr>\n",
       "    <tr>\n",
       "      <th>4</th>\n",
       "      <td>thewhiskeydregs.com/wp-content/themes/widescre...</td>\n",
       "      <td>bad</td>\n",
       "    </tr>\n",
       "  </tbody>\n",
       "</table>\n",
       "</div>"
      ],
      "text/plain": [
       "                                                 URL Label\n",
       "0  nobell.it/70ffb52d079109dca5664cce6f317373782/...   bad\n",
       "1  www.dghjdgf.com/paypal.co.uk/cycgi-bin/webscrc...   bad\n",
       "2  serviciosbys.com/paypal.cgi.bin.get-into.herf....   bad\n",
       "3  mail.printakid.com/www.online.americanexpress....   bad\n",
       "4  thewhiskeydregs.com/wp-content/themes/widescre...   bad"
      ]
     },
     "execution_count": 2,
     "metadata": {},
     "output_type": "execute_result"
    }
   ],
   "source": [
    "phish_data = pd.read_csv('phishing_site_urls.csv')\n",
    "phish_data.head()"
   ]
  },
  {
   "cell_type": "code",
   "execution_count": 3,
   "id": "e386e6c9",
   "metadata": {},
   "outputs": [
    {
     "data": {
      "text/html": [
       "<div>\n",
       "<style scoped>\n",
       "    .dataframe tbody tr th:only-of-type {\n",
       "        vertical-align: middle;\n",
       "    }\n",
       "\n",
       "    .dataframe tbody tr th {\n",
       "        vertical-align: top;\n",
       "    }\n",
       "\n",
       "    .dataframe thead th {\n",
       "        text-align: right;\n",
       "    }\n",
       "</style>\n",
       "<table border=\"1\" class=\"dataframe\">\n",
       "  <thead>\n",
       "    <tr style=\"text-align: right;\">\n",
       "      <th></th>\n",
       "      <th>URL</th>\n",
       "      <th>Label</th>\n",
       "    </tr>\n",
       "  </thead>\n",
       "  <tbody>\n",
       "    <tr>\n",
       "      <th>549341</th>\n",
       "      <td>23.227.196.215/</td>\n",
       "      <td>bad</td>\n",
       "    </tr>\n",
       "    <tr>\n",
       "      <th>549342</th>\n",
       "      <td>apple-checker.org/</td>\n",
       "      <td>bad</td>\n",
       "    </tr>\n",
       "    <tr>\n",
       "      <th>549343</th>\n",
       "      <td>apple-iclods.org/</td>\n",
       "      <td>bad</td>\n",
       "    </tr>\n",
       "    <tr>\n",
       "      <th>549344</th>\n",
       "      <td>apple-uptoday.org/</td>\n",
       "      <td>bad</td>\n",
       "    </tr>\n",
       "    <tr>\n",
       "      <th>549345</th>\n",
       "      <td>apple-search.info</td>\n",
       "      <td>bad</td>\n",
       "    </tr>\n",
       "  </tbody>\n",
       "</table>\n",
       "</div>"
      ],
      "text/plain": [
       "                       URL Label\n",
       "549341     23.227.196.215/   bad\n",
       "549342  apple-checker.org/   bad\n",
       "549343   apple-iclods.org/   bad\n",
       "549344  apple-uptoday.org/   bad\n",
       "549345   apple-search.info   bad"
      ]
     },
     "execution_count": 3,
     "metadata": {},
     "output_type": "execute_result"
    }
   ],
   "source": [
    "phish_data.tail()"
   ]
  },
  {
   "cell_type": "code",
   "execution_count": 4,
   "id": "f209d72b",
   "metadata": {},
   "outputs": [
    {
     "name": "stdout",
     "output_type": "stream",
     "text": [
      "<class 'pandas.core.frame.DataFrame'>\n",
      "RangeIndex: 549346 entries, 0 to 549345\n",
      "Data columns (total 2 columns):\n",
      " #   Column  Non-Null Count   Dtype \n",
      "---  ------  --------------   ----- \n",
      " 0   URL     549346 non-null  object\n",
      " 1   Label   549346 non-null  object\n",
      "dtypes: object(2)\n",
      "memory usage: 8.4+ MB\n"
     ]
    }
   ],
   "source": [
    "phish_data.info()"
   ]
  },
  {
   "cell_type": "code",
   "execution_count": 5,
   "id": "bc299279",
   "metadata": {},
   "outputs": [
    {
     "data": {
      "text/plain": [
       "URL      0\n",
       "Label    0\n",
       "dtype: int64"
      ]
     },
     "execution_count": 5,
     "metadata": {},
     "output_type": "execute_result"
    }
   ],
   "source": [
    "phish_data.isnull().sum() # there is no missing values"
   ]
  },
  {
   "cell_type": "code",
   "execution_count": 6,
   "id": "14c648c2",
   "metadata": {},
   "outputs": [],
   "source": [
    "#create a dataframe of classes counts\n",
    "label_counts = pd.DataFrame(phish_data.Label.value_counts())"
   ]
  },
  {
   "cell_type": "code",
   "execution_count": 7,
   "id": "55411888",
   "metadata": {},
   "outputs": [
    {
     "data": {
      "text/plain": [
       "<AxesSubplot:ylabel='Label'>"
      ]
     },
     "execution_count": 7,
     "metadata": {},
     "output_type": "execute_result"
    },
    {
     "data": {
      "image/png": "[encoded data removed]",
      "text/plain": [
       "<Figure size 432x288 with 1 Axes>"
      ]
     },
     "metadata": {},
     "output_type": "display_data"
    }
   ],
   "source": [
    "#visualizing target_coloumn\n",
    "sns.set_style('darkgrid')\n",
    "sns.barplot(label_counts.index,label_counts.Label)"
   ]
  },
  {
   "cell_type": "code",
   "execution_count": 8,
   "id": "31d5b5ee",
   "metadata": {},
   "outputs": [],
   "source": [
    "#--------------------------------------------------Preprocessing------------------------------------------------------\n",
    "#-----------------------------------------------------------------------------------------------------------------------"
   ]
  },
  {
   "cell_type": "code",
   "execution_count": 9,
   "id": "f6e11db1",
   "metadata": {},
   "outputs": [],
   "source": [
    "tokenizer = RegexpTokenizer(r'[A-Za-z]+')"
   ]
  },
  {
   "cell_type": "code",
   "execution_count": 10,
   "id": "64d61a3d",
   "metadata": {},
   "outputs": [
    {
     "data": {
      "text/plain": [
       "'www.coincoele.com.br/Scripts/smiles/?pt-br/Paginas/default.aspx'"
      ]
     },
     "execution_count": 10,
     "metadata": {},
     "output_type": "execute_result"
    }
   ],
   "source": [
    "phish_data.URL[12]"
   ]
  },
  {
   "cell_type": "code",
   "execution_count": 11,
   "id": "77993c5e",
   "metadata": {},
   "outputs": [
    {
     "data": {
      "text/plain": [
       "['www',\n",
       " 'coincoele',\n",
       " 'com',\n",
       " 'br',\n",
       " 'Scripts',\n",
       " 'smiles',\n",
       " 'pt',\n",
       " 'br',\n",
       " 'Paginas',\n",
       " 'default',\n",
       " 'aspx']"
      ]
     },
     "execution_count": 11,
     "metadata": {},
     "output_type": "execute_result"
    }
   ],
   "source": [
    "# this will be pull letter which matches to expression\n",
    "tokenizer.tokenize(phish_data.URL[12]) "
   ]
  },
  {
   "cell_type": "code",
   "execution_count": 12,
   "id": "ca798c9b",
   "metadata": {},
   "outputs": [
    {
     "name": "stdout",
     "output_type": "stream",
     "text": [
      "Getting words tokenized ...\n",
      "Time taken 2.6108138000000025 sec\n"
     ]
    }
   ],
   "source": [
    "print('Getting words tokenized ...')\n",
    "t0= time.perf_counter()\n",
    "phish_data['text_tokenized'] = phish_data.URL.map(lambda t: tokenizer.tokenize(t)) # doing with all rows\n",
    "t1 = time.perf_counter() - t0\n",
    "print('Time taken',t1 ,'sec')"
   ]
  },
  {
   "cell_type": "code",
   "execution_count": 13,
   "id": "0d7c2113",
   "metadata": {},
   "outputs": [
    {
     "data": {
      "text/html": [
       "<div>\n",
       "<style scoped>\n",
       "    .dataframe tbody tr th:only-of-type {\n",
       "        vertical-align: middle;\n",
       "    }\n",
       "\n",
       "    .dataframe tbody tr th {\n",
       "        vertical-align: top;\n",
       "    }\n",
       "\n",
       "    .dataframe thead th {\n",
       "        text-align: right;\n",
       "    }\n",
       "</style>\n",
       "<table border=\"1\" class=\"dataframe\">\n",
       "  <thead>\n",
       "    <tr style=\"text-align: right;\">\n",
       "      <th></th>\n",
       "      <th>URL</th>\n",
       "      <th>Label</th>\n",
       "      <th>text_tokenized</th>\n",
       "    </tr>\n",
       "  </thead>\n",
       "  <tbody>\n",
       "    <tr>\n",
       "      <th>547876</th>\n",
       "      <td>me.3342.mobi/7/?9643522803</td>\n",
       "      <td>bad</td>\n",
       "      <td>[me, mobi]</td>\n",
       "    </tr>\n",
       "    <tr>\n",
       "      <th>24059</th>\n",
       "      <td>bussiness.38370.kingdream.kz/login-error.php?l...</td>\n",
       "      <td>bad</td>\n",
       "      <td>[bussiness, kingdream, kz, login, error, php, ...</td>\n",
       "    </tr>\n",
       "    <tr>\n",
       "      <th>343792</th>\n",
       "      <td>gadgetfolder.com/onkyo-ds7a-a25-slim-desktop-j...</td>\n",
       "      <td>good</td>\n",
       "      <td>[gadgetfolder, com, onkyo, ds, a, a, slim, des...</td>\n",
       "    </tr>\n",
       "    <tr>\n",
       "      <th>360547</th>\n",
       "      <td>imdb.com/title/tt0491738/epcast</td>\n",
       "      <td>good</td>\n",
       "      <td>[imdb, com, title, tt, epcast]</td>\n",
       "    </tr>\n",
       "    <tr>\n",
       "      <th>23049</th>\n",
       "      <td>www.standprincipal.pt/site/modules/mod_login/c...</td>\n",
       "      <td>bad</td>\n",
       "      <td>[www, standprincipal, pt, site, modules, mod, ...</td>\n",
       "    </tr>\n",
       "    <tr>\n",
       "      <th>258665</th>\n",
       "      <td>wiki.answers.com/Q/What_are_major_social_and_p...</td>\n",
       "      <td>good</td>\n",
       "      <td>[wiki, answers, com, Q, What, are, major, soci...</td>\n",
       "    </tr>\n",
       "    <tr>\n",
       "      <th>387436</th>\n",
       "      <td>merriam-webster.com/dictionary/topsy-turvy</td>\n",
       "      <td>good</td>\n",
       "      <td>[merriam, webster, com, dictionary, topsy, turvy]</td>\n",
       "    </tr>\n",
       "  </tbody>\n",
       "</table>\n",
       "</div>"
      ],
      "text/plain": [
       "                                                      URL Label  \\\n",
       "547876                         me.3342.mobi/7/?9643522803   bad   \n",
       "24059   bussiness.38370.kingdream.kz/login-error.php?l...   bad   \n",
       "343792  gadgetfolder.com/onkyo-ds7a-a25-slim-desktop-j...  good   \n",
       "360547                    imdb.com/title/tt0491738/epcast  good   \n",
       "23049   www.standprincipal.pt/site/modules/mod_login/c...   bad   \n",
       "258665  wiki.answers.com/Q/What_are_major_social_and_p...  good   \n",
       "387436         merriam-webster.com/dictionary/topsy-turvy  good   \n",
       "\n",
       "                                           text_tokenized  \n",
       "547876                                         [me, mobi]  \n",
       "24059   [bussiness, kingdream, kz, login, error, php, ...  \n",
       "343792  [gadgetfolder, com, onkyo, ds, a, a, slim, des...  \n",
       "360547                     [imdb, com, title, tt, epcast]  \n",
       "23049   [www, standprincipal, pt, site, modules, mod, ...  \n",
       "258665  [wiki, answers, com, Q, What, are, major, soci...  \n",
       "387436  [merriam, webster, com, dictionary, topsy, turvy]  "
      ]
     },
     "execution_count": 13,
     "metadata": {},
     "output_type": "execute_result"
    }
   ],
   "source": [
    "phish_data.sample(7)\n"
   ]
  },
  {
   "cell_type": "code",
   "execution_count": 14,
   "id": "75028925",
   "metadata": {},
   "outputs": [
    {
     "name": "stdout",
     "output_type": "stream",
     "text": [
      "Getting raw words ...\n",
      "Time taken 0.2576781000000068 sec\n"
     ]
    }
   ],
   "source": [
    "print('Getting raw words ...')\n",
    "t0= time.perf_counter()\n",
    "phish_data['text_raw'] = phish_data['text_tokenized'].map(lambda text: ' '.join(text))\n",
    "t1= time.perf_counter() - t0\n",
    "print('Time taken',t1 ,'sec')"
   ]
  },
  {
   "cell_type": "code",
   "execution_count": 15,
   "id": "eca6950e",
   "metadata": {},
   "outputs": [
    {
     "data": {
      "text/html": [
       "<div>\n",
       "<style scoped>\n",
       "    .dataframe tbody tr th:only-of-type {\n",
       "        vertical-align: middle;\n",
       "    }\n",
       "\n",
       "    .dataframe tbody tr th {\n",
       "        vertical-align: top;\n",
       "    }\n",
       "\n",
       "    .dataframe thead th {\n",
       "        text-align: right;\n",
       "    }\n",
       "</style>\n",
       "<table border=\"1\" class=\"dataframe\">\n",
       "  <thead>\n",
       "    <tr style=\"text-align: right;\">\n",
       "      <th></th>\n",
       "      <th>URL</th>\n",
       "      <th>Label</th>\n",
       "      <th>text_tokenized</th>\n",
       "      <th>text_raw</th>\n",
       "    </tr>\n",
       "  </thead>\n",
       "  <tbody>\n",
       "    <tr>\n",
       "      <th>105118</th>\n",
       "      <td>aor.gr/components/com_users/models/sc/newp/ind...</td>\n",
       "      <td>bad</td>\n",
       "      <td>[aor, gr, components, com, users, models, sc, ...</td>\n",
       "      <td>aor gr components com users models sc newp ind...</td>\n",
       "    </tr>\n",
       "    <tr>\n",
       "      <th>109532</th>\n",
       "      <td>demo.xcally.com/assets/plugins/jquery-file-upl...</td>\n",
       "      <td>bad</td>\n",
       "      <td>[demo, xcally, com, assets, plugins, jquery, f...</td>\n",
       "      <td>demo xcally com assets plugins jquery file upl...</td>\n",
       "    </tr>\n",
       "    <tr>\n",
       "      <th>402791</th>\n",
       "      <td>nebsports.com/2009/03/03/major-culbert-no-long...</td>\n",
       "      <td>good</td>\n",
       "      <td>[nebsports, com, major, culbert, no, longer, w...</td>\n",
       "      <td>nebsports com major culbert no longer with the...</td>\n",
       "    </tr>\n",
       "    <tr>\n",
       "      <th>284095</th>\n",
       "      <td>artscenecal.com/Announcements/0705/L2kontempor...</td>\n",
       "      <td>good</td>\n",
       "      <td>[artscenecal, com, Announcements, L, kontempor...</td>\n",
       "      <td>artscenecal com Announcements L kontemporary html</td>\n",
       "    </tr>\n",
       "    <tr>\n",
       "      <th>275362</th>\n",
       "      <td>amazon.com/Hank-Williams-Sr-Show-Never/dp/6302...</td>\n",
       "      <td>good</td>\n",
       "      <td>[amazon, com, Hank, Williams, Sr, Show, Never,...</td>\n",
       "      <td>amazon com Hank Williams Sr Show Never dp X</td>\n",
       "    </tr>\n",
       "  </tbody>\n",
       "</table>\n",
       "</div>"
      ],
      "text/plain": [
       "                                                      URL Label  \\\n",
       "105118  aor.gr/components/com_users/models/sc/newp/ind...   bad   \n",
       "109532  demo.xcally.com/assets/plugins/jquery-file-upl...   bad   \n",
       "402791  nebsports.com/2009/03/03/major-culbert-no-long...  good   \n",
       "284095  artscenecal.com/Announcements/0705/L2kontempor...  good   \n",
       "275362  amazon.com/Hank-Williams-Sr-Show-Never/dp/6302...  good   \n",
       "\n",
       "                                           text_tokenized  \\\n",
       "105118  [aor, gr, components, com, users, models, sc, ...   \n",
       "109532  [demo, xcally, com, assets, plugins, jquery, f...   \n",
       "402791  [nebsports, com, major, culbert, no, longer, w...   \n",
       "284095  [artscenecal, com, Announcements, L, kontempor...   \n",
       "275362  [amazon, com, Hank, Williams, Sr, Show, Never,...   \n",
       "\n",
       "                                                 text_raw  \n",
       "105118  aor gr components com users models sc newp ind...  \n",
       "109532  demo xcally com assets plugins jquery file upl...  \n",
       "402791  nebsports com major culbert no longer with the...  \n",
       "284095  artscenecal com Announcements L kontemporary html  \n",
       "275362        amazon com Hank Williams Sr Show Never dp X  "
      ]
     },
     "execution_count": 15,
     "metadata": {},
     "output_type": "execute_result"
    }
   ],
   "source": [
    "phish_data.sample(5)"
   ]
  },
  {
   "cell_type": "code",
   "execution_count": null,
   "id": "a9e62ba8",
   "metadata": {},
   "outputs": [],
   "source": []
  },
  {
   "cell_type": "code",
   "execution_count": 16,
   "id": "4472fbb6",
   "metadata": {},
   "outputs": [
    {
     "data": {
      "text/html": [
       "<div>\n",
       "<style scoped>\n",
       "    .dataframe tbody tr th:only-of-type {\n",
       "        vertical-align: middle;\n",
       "    }\n",
       "\n",
       "    .dataframe tbody tr th {\n",
       "        vertical-align: top;\n",
       "    }\n",
       "\n",
       "    .dataframe thead th {\n",
       "        text-align: right;\n",
       "    }\n",
       "</style>\n",
       "<table border=\"1\" class=\"dataframe\">\n",
       "  <thead>\n",
       "    <tr style=\"text-align: right;\">\n",
       "      <th></th>\n",
       "      <th>URL</th>\n",
       "      <th>Label</th>\n",
       "      <th>text_tokenized</th>\n",
       "      <th>text_raw</th>\n",
       "    </tr>\n",
       "  </thead>\n",
       "  <tbody>\n",
       "    <tr>\n",
       "      <th>248299</th>\n",
       "      <td>todfennell.com/</td>\n",
       "      <td>good</td>\n",
       "      <td>[todfennell, com]</td>\n",
       "      <td>todfennell com</td>\n",
       "    </tr>\n",
       "    <tr>\n",
       "      <th>394945</th>\n",
       "      <td>myapartmentparis.com/rent/saint-martin-market/...</td>\n",
       "      <td>good</td>\n",
       "      <td>[myapartmentparis, com, rent, saint, martin, m...</td>\n",
       "      <td>myapartmentparis com rent saint martin market ...</td>\n",
       "    </tr>\n",
       "    <tr>\n",
       "      <th>388519</th>\n",
       "      <td>metrolyrics.com/raphael-saadiq-lyrics.html</td>\n",
       "      <td>good</td>\n",
       "      <td>[metrolyrics, com, raphael, saadiq, lyrics, html]</td>\n",
       "      <td>metrolyrics com raphael saadiq lyrics html</td>\n",
       "    </tr>\n",
       "    <tr>\n",
       "      <th>358844</th>\n",
       "      <td>imdb.com/name/nm0584335/bio</td>\n",
       "      <td>good</td>\n",
       "      <td>[imdb, com, name, nm, bio]</td>\n",
       "      <td>imdb com name nm bio</td>\n",
       "    </tr>\n",
       "    <tr>\n",
       "      <th>533606</th>\n",
       "      <td>illaghettodelcircoletto.it/flkekqs</td>\n",
       "      <td>bad</td>\n",
       "      <td>[illaghettodelcircoletto, it, flkekqs]</td>\n",
       "      <td>illaghettodelcircoletto it flkekqs</td>\n",
       "    </tr>\n",
       "    <tr>\n",
       "      <th>379386</th>\n",
       "      <td>lookupanyone.com/namelistings/gus-hanrahan.html</td>\n",
       "      <td>good</td>\n",
       "      <td>[lookupanyone, com, namelistings, gus, hanraha...</td>\n",
       "      <td>lookupanyone com namelistings gus hanrahan html</td>\n",
       "    </tr>\n",
       "    <tr>\n",
       "      <th>514549</th>\n",
       "      <td>errorfola.top/read.php?f=0.dat</td>\n",
       "      <td>bad</td>\n",
       "      <td>[errorfola, top, read, php, f, dat]</td>\n",
       "      <td>errorfola top read php f dat</td>\n",
       "    </tr>\n",
       "  </tbody>\n",
       "</table>\n",
       "</div>"
      ],
      "text/plain": [
       "                                                      URL Label  \\\n",
       "248299                                    todfennell.com/  good   \n",
       "394945  myapartmentparis.com/rent/saint-martin-market/...  good   \n",
       "388519         metrolyrics.com/raphael-saadiq-lyrics.html  good   \n",
       "358844                        imdb.com/name/nm0584335/bio  good   \n",
       "533606                 illaghettodelcircoletto.it/flkekqs   bad   \n",
       "379386    lookupanyone.com/namelistings/gus-hanrahan.html  good   \n",
       "514549                     errorfola.top/read.php?f=0.dat   bad   \n",
       "\n",
       "                                           text_tokenized  \\\n",
       "248299                                  [todfennell, com]   \n",
       "394945  [myapartmentparis, com, rent, saint, martin, m...   \n",
       "388519  [metrolyrics, com, raphael, saadiq, lyrics, html]   \n",
       "358844                         [imdb, com, name, nm, bio]   \n",
       "533606             [illaghettodelcircoletto, it, flkekqs]   \n",
       "379386  [lookupanyone, com, namelistings, gus, hanraha...   \n",
       "514549                [errorfola, top, read, php, f, dat]   \n",
       "\n",
       "                                                 text_raw  \n",
       "248299                                     todfennell com  \n",
       "394945  myapartmentparis com rent saint martin market ...  \n",
       "388519         metrolyrics com raphael saadiq lyrics html  \n",
       "358844                               imdb com name nm bio  \n",
       "533606                 illaghettodelcircoletto it flkekqs  \n",
       "379386    lookupanyone com namelistings gus hanrahan html  \n",
       "514549                       errorfola top read php f dat  "
      ]
     },
     "execution_count": 16,
     "metadata": {},
     "output_type": "execute_result"
    }
   ],
   "source": [
    "phish_data.sample(7)"
   ]
  },
  {
   "cell_type": "code",
   "execution_count": 17,
   "id": "0c184418",
   "metadata": {},
   "outputs": [],
   "source": [
    "#------------------------------------------------------Visualization-------------------------------------------------------"
   ]
  },
  {
   "cell_type": "code",
   "execution_count": 18,
   "id": "ac09c9ee",
   "metadata": {},
   "outputs": [],
   "source": [
    "#sliceing classes\n",
    "bad_sites = phish_data[phish_data.Label == 'bad']\n",
    "good_sites = phish_data[phish_data.Label == 'good']"
   ]
  },
  {
   "cell_type": "code",
   "execution_count": 19,
   "id": "ec0ed332",
   "metadata": {},
   "outputs": [
    {
     "data": {
      "text/html": [
       "<div>\n",
       "<style scoped>\n",
       "    .dataframe tbody tr th:only-of-type {\n",
       "        vertical-align: middle;\n",
       "    }\n",
       "\n",
       "    .dataframe tbody tr th {\n",
       "        vertical-align: top;\n",
       "    }\n",
       "\n",
       "    .dataframe thead th {\n",
       "        text-align: right;\n",
       "    }\n",
       "</style>\n",
       "<table border=\"1\" class=\"dataframe\">\n",
       "  <thead>\n",
       "    <tr style=\"text-align: right;\">\n",
       "      <th></th>\n",
       "      <th>URL</th>\n",
       "      <th>Label</th>\n",
       "      <th>text_tokenized</th>\n",
       "      <th>text_raw</th>\n",
       "    </tr>\n",
       "  </thead>\n",
       "  <tbody>\n",
       "    <tr>\n",
       "      <th>0</th>\n",
       "      <td>nobell.it/70ffb52d079109dca5664cce6f317373782/...</td>\n",
       "      <td>bad</td>\n",
       "      <td>[nobell, it, ffb, d, dca, cce, f, login, SkyPe...</td>\n",
       "      <td>nobell it ffb d dca cce f login SkyPe com en c...</td>\n",
       "    </tr>\n",
       "    <tr>\n",
       "      <th>1</th>\n",
       "      <td>www.dghjdgf.com/paypal.co.uk/cycgi-bin/webscrc...</td>\n",
       "      <td>bad</td>\n",
       "      <td>[www, dghjdgf, com, paypal, co, uk, cycgi, bin...</td>\n",
       "      <td>www dghjdgf com paypal co uk cycgi bin webscrc...</td>\n",
       "    </tr>\n",
       "    <tr>\n",
       "      <th>2</th>\n",
       "      <td>serviciosbys.com/paypal.cgi.bin.get-into.herf....</td>\n",
       "      <td>bad</td>\n",
       "      <td>[serviciosbys, com, paypal, cgi, bin, get, int...</td>\n",
       "      <td>serviciosbys com paypal cgi bin get into herf ...</td>\n",
       "    </tr>\n",
       "    <tr>\n",
       "      <th>3</th>\n",
       "      <td>mail.printakid.com/www.online.americanexpress....</td>\n",
       "      <td>bad</td>\n",
       "      <td>[mail, printakid, com, www, online, americanex...</td>\n",
       "      <td>mail printakid com www online americanexpress ...</td>\n",
       "    </tr>\n",
       "    <tr>\n",
       "      <th>4</th>\n",
       "      <td>thewhiskeydregs.com/wp-content/themes/widescre...</td>\n",
       "      <td>bad</td>\n",
       "      <td>[thewhiskeydregs, com, wp, content, themes, wi...</td>\n",
       "      <td>thewhiskeydregs com wp content themes widescre...</td>\n",
       "    </tr>\n",
       "  </tbody>\n",
       "</table>\n",
       "</div>"
      ],
      "text/plain": [
       "                                                 URL Label  \\\n",
       "0  nobell.it/70ffb52d079109dca5664cce6f317373782/...   bad   \n",
       "1  www.dghjdgf.com/paypal.co.uk/cycgi-bin/webscrc...   bad   \n",
       "2  serviciosbys.com/paypal.cgi.bin.get-into.herf....   bad   \n",
       "3  mail.printakid.com/www.online.americanexpress....   bad   \n",
       "4  thewhiskeydregs.com/wp-content/themes/widescre...   bad   \n",
       "\n",
       "                                      text_tokenized  \\\n",
       "0  [nobell, it, ffb, d, dca, cce, f, login, SkyPe...   \n",
       "1  [www, dghjdgf, com, paypal, co, uk, cycgi, bin...   \n",
       "2  [serviciosbys, com, paypal, cgi, bin, get, int...   \n",
       "3  [mail, printakid, com, www, online, americanex...   \n",
       "4  [thewhiskeydregs, com, wp, content, themes, wi...   \n",
       "\n",
       "                                            text_raw  \n",
       "0  nobell it ffb d dca cce f login SkyPe com en c...  \n",
       "1  www dghjdgf com paypal co uk cycgi bin webscrc...  \n",
       "2  serviciosbys com paypal cgi bin get into herf ...  \n",
       "3  mail printakid com www online americanexpress ...  \n",
       "4  thewhiskeydregs com wp content themes widescre...  "
      ]
     },
     "execution_count": 19,
     "metadata": {},
     "output_type": "execute_result"
    }
   ],
   "source": [
    "bad_sites.head()"
   ]
  },
  {
   "cell_type": "code",
   "execution_count": 20,
   "id": "4c26202c",
   "metadata": {},
   "outputs": [
    {
     "data": {
      "text/html": [
       "<div>\n",
       "<style scoped>\n",
       "    .dataframe tbody tr th:only-of-type {\n",
       "        vertical-align: middle;\n",
       "    }\n",
       "\n",
       "    .dataframe tbody tr th {\n",
       "        vertical-align: top;\n",
       "    }\n",
       "\n",
       "    .dataframe thead th {\n",
       "        text-align: right;\n",
       "    }\n",
       "</style>\n",
       "<table border=\"1\" class=\"dataframe\">\n",
       "  <thead>\n",
       "    <tr style=\"text-align: right;\">\n",
       "      <th></th>\n",
       "      <th>URL</th>\n",
       "      <th>Label</th>\n",
       "      <th>text_tokenized</th>\n",
       "      <th>text_raw</th>\n",
       "    </tr>\n",
       "  </thead>\n",
       "  <tbody>\n",
       "    <tr>\n",
       "      <th>18231</th>\n",
       "      <td>esxcc.com/js/index.htm?us.battle.net/noghn/en/...</td>\n",
       "      <td>good</td>\n",
       "      <td>[esxcc, com, js, index, htm, us, battle, net, ...</td>\n",
       "      <td>esxcc com js index htm us battle net noghn en ...</td>\n",
       "    </tr>\n",
       "    <tr>\n",
       "      <th>18232</th>\n",
       "      <td>www\u000eeira¯&amp;nvinip¿ncH¯wVö%ÆåyDaHðû/ÏyEùu\u0003Ë\\nÓ\u00176...</td>\n",
       "      <td>good</td>\n",
       "      <td>[www, eira, nvinip, ncH, wV, yDaH, yE, u, rT, ...</td>\n",
       "      <td>www eira nvinip ncH wV yDaH yE u rT u g m i XZ...</td>\n",
       "    </tr>\n",
       "    <tr>\n",
       "      <th>18233</th>\n",
       "      <td>'www.institutocgr.coo/web/media/syqvem/dk-\u000fóij...</td>\n",
       "      <td>good</td>\n",
       "      <td>[www, institutocgr, coo, web, media, syqvem, d...</td>\n",
       "      <td>www institutocgr coo web media syqvem dk ij R ...</td>\n",
       "    </tr>\n",
       "    <tr>\n",
       "      <th>18234</th>\n",
       "      <td>\u0011\u0018Yìê\f",
       "koãÕ»Î§DéÎ\u0002l½ñ¡ââqtò¸/à; Í</td>\n",
       "      <td>good</td>\n",
       "      <td>[Y, ko, D, l, qt]</td>\n",
       "      <td>Y ko D l qt</td>\n",
       "    </tr>\n",
       "    <tr>\n",
       "      <th>18236</th>\n",
       "      <td>ruta89fm.com/images/AS@Vies/1i75cf7b16vc&lt;F\u0015d16...</td>\n",
       "      <td>good</td>\n",
       "      <td>[ruta, fm, com, images, AS, Vies, i, cf, b, vc...</td>\n",
       "      <td>ruta fm com images AS Vies i cf b vc F d b g s...</td>\n",
       "    </tr>\n",
       "  </tbody>\n",
       "</table>\n",
       "</div>"
      ],
      "text/plain": [
       "                                                     URL Label  \\\n",
       "18231  esxcc.com/js/index.htm?us.battle.net/noghn/en/...  good   \n",
       "18232  www\u000eeira¯&nvinip¿ncH¯wVö%ÆåyDaHðû/ÏyEùu\u0003Ë\\nÓ\u00176...  good   \n",
       "18233  'www.institutocgr.coo/web/media/syqvem/dk-\u000fóij...  good   \n",
       "18234                  \u0011\u0018Yìê\n",
       "koãÕ»Î§DéÎ\u0002l½ñ¡ââqtò¸/à; Í  good   \n",
       "18236  ruta89fm.com/images/AS@Vies/1i75cf7b16vc<F\u0015d16...  good   \n",
       "\n",
       "                                          text_tokenized  \\\n",
       "18231  [esxcc, com, js, index, htm, us, battle, net, ...   \n",
       "18232  [www, eira, nvinip, ncH, wV, yDaH, yE, u, rT, ...   \n",
       "18233  [www, institutocgr, coo, web, media, syqvem, d...   \n",
       "18234                                  [Y, ko, D, l, qt]   \n",
       "18236  [ruta, fm, com, images, AS, Vies, i, cf, b, vc...   \n",
       "\n",
       "                                                text_raw  \n",
       "18231  esxcc com js index htm us battle net noghn en ...  \n",
       "18232  www eira nvinip ncH wV yDaH yE u rT u g m i XZ...  \n",
       "18233  www institutocgr coo web media syqvem dk ij R ...  \n",
       "18234                                        Y ko D l qt  \n",
       "18236  ruta fm com images AS Vies i cf b vc F d b g s...  "
      ]
     },
     "execution_count": 20,
     "metadata": {},
     "output_type": "execute_result"
    }
   ],
   "source": [
    "good_sites.head()"
   ]
  },
  {
   "cell_type": "code",
   "execution_count": 21,
   "id": "c9ece84f",
   "metadata": {},
   "outputs": [],
   "source": [
    "# Visualize internal links, it will shows all redirect links."
   ]
  },
  {
   "cell_type": "code",
   "execution_count": 22,
   "id": "a17907a8",
   "metadata": {},
   "outputs": [],
   "source": [
    "from selenium import webdriver\n",
    "from selenium.webdriver.chrome.options import Options\n",
    "\n",
    "options = Options()\n",
    "options.binary_location = \"C:\\\\Program Files\\\\BraveSoftware\\\\Brave-Browser\\\\Application\\\\brave.exe\"\n",
    "driver_path = \"C:\\\\Users\\\\bbirj\\\\Desktop\\\\INTELLIGENCE-X\\\\chromedriver.exe\"\n",
    "drvr = webdriver.Chrome(options = options, executable_path = driver_path)"
   ]
  },
  {
   "cell_type": "code",
   "execution_count": 23,
   "id": "b8edebc7",
   "metadata": {},
   "outputs": [],
   "source": [
    "list_urls = ['https://www.facebook.com/'] #here i take good site \n",
    "links_with_text = []"
   ]
  },
  {
   "cell_type": "code",
   "execution_count": 24,
   "id": "ce377486",
   "metadata": {},
   "outputs": [],
   "source": [
    "for url in list_urls:\n",
    "    drvr.get(url)\n",
    "    soup = BeautifulSoup(drvr.page_source,\"html.parser\")\n",
    "    for line in soup.find_all('a'):\n",
    "        href = line.get('href')\n",
    "        links_with_text.append([url, href])"
   ]
  },
  {
   "cell_type": "code",
   "execution_count": 25,
   "id": "e309ccae",
   "metadata": {},
   "outputs": [],
   "source": [
    "df = pd.DataFrame(links_with_text, columns=[\"from\", \"to\"])"
   ]
  },
  {
   "cell_type": "code",
   "execution_count": 26,
   "id": "7ae95986",
   "metadata": {},
   "outputs": [
    {
     "data": {
      "text/html": [
       "<div>\n",
       "<style scoped>\n",
       "    .dataframe tbody tr th:only-of-type {\n",
       "        vertical-align: middle;\n",
       "    }\n",
       "\n",
       "    .dataframe tbody tr th {\n",
       "        vertical-align: top;\n",
       "    }\n",
       "\n",
       "    .dataframe thead th {\n",
       "        text-align: right;\n",
       "    }\n",
       "</style>\n",
       "<table border=\"1\" class=\"dataframe\">\n",
       "  <thead>\n",
       "    <tr style=\"text-align: right;\">\n",
       "      <th></th>\n",
       "      <th>from</th>\n",
       "      <th>to</th>\n",
       "    </tr>\n",
       "  </thead>\n",
       "  <tbody>\n",
       "    <tr>\n",
       "      <th>41</th>\n",
       "      <td>https://www.facebook.com/</td>\n",
       "      <td>/policies?ref=pf</td>\n",
       "    </tr>\n",
       "    <tr>\n",
       "      <th>42</th>\n",
       "      <td>https://www.facebook.com/</td>\n",
       "      <td>/help/?ref=pf</td>\n",
       "    </tr>\n",
       "    <tr>\n",
       "      <th>43</th>\n",
       "      <td>https://www.facebook.com/</td>\n",
       "      <td>help/637205020878504</td>\n",
       "    </tr>\n",
       "    <tr>\n",
       "      <th>44</th>\n",
       "      <td>https://www.facebook.com/</td>\n",
       "      <td>/settings</td>\n",
       "    </tr>\n",
       "    <tr>\n",
       "      <th>45</th>\n",
       "      <td>https://www.facebook.com/</td>\n",
       "      <td>/allactivity?privacy_source=activity_log_top_menu</td>\n",
       "    </tr>\n",
       "  </tbody>\n",
       "</table>\n",
       "</div>"
      ],
      "text/plain": [
       "                         from  \\\n",
       "41  https://www.facebook.com/   \n",
       "42  https://www.facebook.com/   \n",
       "43  https://www.facebook.com/   \n",
       "44  https://www.facebook.com/   \n",
       "45  https://www.facebook.com/   \n",
       "\n",
       "                                                   to  \n",
       "41                                   /policies?ref=pf  \n",
       "42                                      /help/?ref=pf  \n",
       "43                               help/637205020878504  \n",
       "44                                          /settings  \n",
       "45  /allactivity?privacy_source=activity_log_top_menu  "
      ]
     },
     "execution_count": 26,
     "metadata": {},
     "output_type": "execute_result"
    }
   ],
   "source": [
    "df.tail()"
   ]
  },
  {
   "cell_type": "code",
   "execution_count": 27,
   "id": "44cf2e66",
   "metadata": {},
   "outputs": [
    {
     "name": "stdout",
     "output_type": "stream",
     "text": [
      "<class 'pandas.core.frame.DataFrame'>\n",
      "RangeIndex: 46 entries, 0 to 45\n",
      "Data columns (total 2 columns):\n",
      " #   Column  Non-Null Count  Dtype \n",
      "---  ------  --------------  ----- \n",
      " 0   from    46 non-null     object\n",
      " 1   to      46 non-null     object\n",
      "dtypes: object(2)\n",
      "memory usage: 864.0+ bytes\n"
     ]
    }
   ],
   "source": [
    "df.info()"
   ]
  },
  {
   "cell_type": "code",
   "execution_count": null,
   "id": "0123be69",
   "metadata": {},
   "outputs": [],
   "source": [
    "## Here I demonstrate(using selenium webdriver) how hackers can redirect you from one website to another."
   ]
  },
  {
   "cell_type": "code",
   "execution_count": 28,
   "id": "44c9486f",
   "metadata": {},
   "outputs": [
    {
     "data": {
      "image/png": "[encoded data removed]",
      "text/plain": [
       "<Figure size 432x288 with 1 Axes>"
      ]
     },
     "metadata": {},
     "output_type": "display_data"
    }
   ],
   "source": [
    "GA = networkx.from_pandas_edgelist(df, source=\"from\", target=\"to\")\n",
    "networkx.draw(GA, with_labels=False)"
   ]
  },
  {
   "cell_type": "code",
   "execution_count": 29,
   "id": "377a4807",
   "metadata": {},
   "outputs": [],
   "source": [
    "##CountVectorizer is used to transform a corpora of text to a vector of term / token counts."
   ]
  },
  {
   "cell_type": "code",
   "execution_count": 30,
   "id": "ddf07c39",
   "metadata": {},
   "outputs": [],
   "source": [
    "#create cv object\n",
    "cv = CountVectorizer()"
   ]
  },
  {
   "cell_type": "code",
   "execution_count": 31,
   "id": "955aefbb",
   "metadata": {},
   "outputs": [],
   "source": [
    "feature = cv.fit_transform(phish_data.text_raw) #transform all text which we tokenized"
   ]
  },
  {
   "cell_type": "code",
   "execution_count": null,
   "id": "f2aca824",
   "metadata": {},
   "outputs": [],
   "source": [
    "# --------------------------------------------Model Training----------------------------------------------------------------\n",
    "# --------------------------------------------------------------------------------------------------------------------------"
   ]
  },
  {
   "cell_type": "code",
   "execution_count": 50,
   "id": "4db683d9",
   "metadata": {},
   "outputs": [],
   "source": [
    "trainX, testX, trainY, testY = train_test_split(feature, phish_data.Label)"
   ]
  },
  {
   "cell_type": "code",
   "execution_count": 33,
   "id": "c637cb44",
   "metadata": {},
   "outputs": [],
   "source": [
    "# create lr object\n",
    "lr = LogisticRegression()"
   ]
  },
  {
   "cell_type": "code",
   "execution_count": 34,
   "id": "11d5bf3a",
   "metadata": {},
   "outputs": [
    {
     "data": {
      "text/plain": [
       "LogisticRegression()"
      ]
     },
     "execution_count": 34,
     "metadata": {},
     "output_type": "execute_result"
    }
   ],
   "source": [
    "##implementing Logistic regression for train the data\n",
    "lr.fit(trainX,trainY)"
   ]
  },
  {
   "cell_type": "code",
   "execution_count": 35,
   "id": "f41b745d",
   "metadata": {},
   "outputs": [
    {
     "data": {
      "text/plain": [
       "0.9644305613199647"
      ]
     },
     "execution_count": 35,
     "metadata": {},
     "output_type": "execute_result"
    }
   ],
   "source": [
    "#calculting test score\n",
    "lr.score(testX,testY)"
   ]
  },
  {
   "cell_type": "code",
   "execution_count": 36,
   "id": "7cbce294",
   "metadata": {},
   "outputs": [
    {
     "data": {
      "text/plain": [
       "0.9789446347045817"
      ]
     },
     "execution_count": 36,
     "metadata": {},
     "output_type": "execute_result"
    }
   ],
   "source": [
    "#calculating train score\n",
    "lr.score(trainX,trainY)"
   ]
  },
  {
   "cell_type": "code",
   "execution_count": 37,
   "id": "bb13e0cb",
   "metadata": {},
   "outputs": [
    {
     "name": "stdout",
     "output_type": "stream",
     "text": [
      "Training Accuracy : 0.9789446347045817\n",
      "Testing Accuracy : 0.9644305613199647\n",
      "\n",
      "CLASSIFICATION REPORT\n",
      "\n",
      "              precision    recall  f1-score   support\n",
      "\n",
      "         Bad       0.91      0.97      0.94     36863\n",
      "        Good       0.99      0.96      0.98    100474\n",
      "\n",
      "    accuracy                           0.96    137337\n",
      "   macro avg       0.95      0.97      0.96    137337\n",
      "weighted avg       0.97      0.96      0.96    137337\n",
      "\n",
      "\n",
      "CONFUSION MATRIX\n"
     ]
    },
    {
     "data": {
      "text/plain": [
       "<AxesSubplot:>"
      ]
     },
     "execution_count": 37,
     "metadata": {},
     "output_type": "execute_result"
    },
    {
     "data": {
      "image/png": "[encoded data removed]",
      "text/plain": [
       "<Figure size 576x288 with 2 Axes>"
      ]
     },
     "metadata": {},
     "output_type": "display_data"
    }
   ],
   "source": [
    "print('Training Accuracy :',lr.score(trainX,trainY))\n",
    "print('Testing Accuracy :',lr.score(testX,testY))\n",
    "con_mat = pd.DataFrame(confusion_matrix(lr.predict(testX), testY),\n",
    "            columns = ['Predicted:Bad', 'Predicted:Good'],\n",
    "            index = ['Actual:Bad', 'Actual:Good'])\n",
    "\n",
    "\n",
    "print('\\nCLASSIFICATION REPORT\\n')\n",
    "print(classification_report(lr.predict(testX), testY,\n",
    "                            target_names =['Bad','Good']))\n",
    "\n",
    "print('\\nCONFUSION MATRIX')\n",
    "plt.figure(figsize= (8,4))\n",
    "sns.heatmap(con_mat, annot = True,fmt='d',cmap=\"YlOrRd\")"
   ]
  },
  {
   "cell_type": "code",
   "execution_count": 38,
   "id": "1393d018",
   "metadata": {},
   "outputs": [],
   "source": [
    "pipeline_ls = make_pipeline(CountVectorizer(tokenizer = RegexpTokenizer(r'[A-Za-z]+').tokenize,stop_words='english'), LogisticRegression()) "
   ]
  },
  {
   "cell_type": "code",
   "execution_count": 39,
   "id": "d5cc9431",
   "metadata": {},
   "outputs": [],
   "source": [
    "trainX, testX, trainY, testY = train_test_split(phish_data.URL, phish_data.Label)"
   ]
  },
  {
   "cell_type": "code",
   "execution_count": 40,
   "id": "4f9443e0",
   "metadata": {},
   "outputs": [
    {
     "data": {
      "text/plain": [
       "Pipeline(steps=[('countvectorizer',\n",
       "                 CountVectorizer(stop_words='english',\n",
       "                                 tokenizer=<bound method RegexpTokenizer.tokenize of RegexpTokenizer(pattern='[A-Za-z]+', gaps=False, discard_empty=True, flags=re.UNICODE|re.MULTILINE|re.DOTALL)>)),\n",
       "                ('logisticregression', LogisticRegression())])"
      ]
     },
     "execution_count": 40,
     "metadata": {},
     "output_type": "execute_result"
    }
   ],
   "source": [
    "pipeline_ls.fit(trainX,trainY)"
   ]
  },
  {
   "cell_type": "code",
   "execution_count": 41,
   "id": "61fa3723",
   "metadata": {},
   "outputs": [
    {
     "data": {
      "text/plain": [
       "0.9674159185070301"
      ]
     },
     "execution_count": 41,
     "metadata": {},
     "output_type": "execute_result"
    }
   ],
   "source": [
    "pipeline_ls.score(testX,testY) "
   ]
  },
  {
   "cell_type": "code",
   "execution_count": 42,
   "id": "d2274fce",
   "metadata": {},
   "outputs": [
    {
     "data": {
      "text/plain": [
       "0.9811217716117852"
      ]
     },
     "execution_count": 42,
     "metadata": {},
     "output_type": "execute_result"
    }
   ],
   "source": [
    "pipeline_ls.score(trainX,trainY) "
   ]
  },
  {
   "cell_type": "code",
   "execution_count": 43,
   "id": "1a502fc7",
   "metadata": {},
   "outputs": [
    {
     "name": "stdout",
     "output_type": "stream",
     "text": [
      "Training Accuracy : 0.9811217716117852\n",
      "Testing Accuracy : 0.9674159185070301\n",
      "\n",
      "CLASSIFICATION REPORT\n",
      "\n",
      "              precision    recall  f1-score   support\n",
      "\n",
      "         Bad       0.92      0.97      0.94     36831\n",
      "        Good       0.99      0.97      0.98    100506\n",
      "\n",
      "    accuracy                           0.97    137337\n",
      "   macro avg       0.95      0.97      0.96    137337\n",
      "weighted avg       0.97      0.97      0.97    137337\n",
      "\n",
      "\n",
      "CONFUSION MATRIX\n"
     ]
    },
    {
     "data": {
      "text/plain": [
       "<AxesSubplot:>"
      ]
     },
     "execution_count": 43,
     "metadata": {},
     "output_type": "execute_result"
    },
    {
     "data": {
      "image/png": "[encoded data removed]",
      "text/plain": [
       "<Figure size 576x288 with 2 Axes>"
      ]
     },
     "metadata": {},
     "output_type": "display_data"
    }
   ],
   "source": [
    "print('Training Accuracy :',pipeline_ls.score(trainX,trainY))\n",
    "print('Testing Accuracy :',pipeline_ls.score(testX,testY))\n",
    "con_mat = pd.DataFrame(confusion_matrix(pipeline_ls.predict(testX), testY),\n",
    "            columns = ['Predicted:Bad', 'Predicted:Good'],\n",
    "            index = ['Actual:Bad', 'Actual:Good'])\n",
    "\n",
    "\n",
    "print('\\nCLASSIFICATION REPORT\\n')\n",
    "print(classification_report(pipeline_ls.predict(testX), testY,\n",
    "                            target_names =['Bad','Good']))\n",
    "\n",
    "print('\\nCONFUSION MATRIX')\n",
    "plt.figure(figsize= (8,4))\n",
    "sns.heatmap(con_mat, annot = True,fmt='d',cmap=\"YlGnBu\")"
   ]
  },
  {
   "cell_type": "code",
   "execution_count": null,
   "id": "891a84b9",
   "metadata": {},
   "outputs": [],
   "source": [
    "#-----------------------------------------------Prediction-----------------------------------------------------------------\n",
    "# ~~~~~~~~~~~~~~~~~~~~~~~~~~~~~~~~~~~~~~~~~~~~~~~~~~~~~~~~~~~~~~~~~~~~~~~~~~~~~~~~~~~~~~~~~~~~~~~~~~~~~~~~~~~~~~~~~~~~~~~~"
   ]
  },
  {
   "cell_type": "code",
   "execution_count": 44,
   "id": "63beafee",
   "metadata": {},
   "outputs": [],
   "source": [
    "pickle.dump(pipeline_ls,open('phishing.pkl','wb'))"
   ]
  },
  {
   "cell_type": "code",
   "execution_count": 45,
   "id": "bd2fda68",
   "metadata": {},
   "outputs": [
    {
     "name": "stdout",
     "output_type": "stream",
     "text": [
      "0.9674159185070301\n"
     ]
    }
   ],
   "source": [
    "loaded_model = pickle.load(open('phishing.pkl', 'rb'))\n",
    "result = loaded_model.score(testX,testY)\n",
    "print(result)"
   ]
  },
  {
   "cell_type": "code",
   "execution_count": 49,
   "id": "0f92a869",
   "metadata": {},
   "outputs": [
    {
     "name": "stdout",
     "output_type": "stream",
     "text": [
      "['good' 'bad' 'bad' 'good']\n",
      "********************\n",
      "['bad' 'good' 'good']\n"
     ]
    }
   ],
   "source": [
    "URLs_input1 = ['www.google.com','anonymeidentity.net/remax./remax.htm','https://ultrabank.com','www.facebook.com']\n",
    "URLs_input2 = ['www.controlledprojects.info/security/','https://www.facebook.com','https://www.youtube.com/']\n",
    "loaded_model = pickle.load(open('phishing.pkl', 'rb'))\n",
    "result1 = loaded_model.predict(URLs_input1)\n",
    "result2 = loaded_model.predict(URLs_input2)\n",
    "print(result1)\n",
    "print(\"*\"*20)\n",
    "print(result2)"
   ]
  },
  {
   "cell_type": "code",
   "execution_count": null,
   "id": "b476ab6b",
   "metadata": {},
   "outputs": [],
   "source": [
    "#                                                 Arigato!!"
   ]
  }
 ],
 "metadata": {
  "kernelspec": {
   "display_name": "Python 3",
   "language": "python",
   "name": "python3"
  },
  "language_info": {
   "codemirror_mode": {
    "name": "ipython",
    "version": 3
   },
   "file_extension": ".py",
   "mimetype": "text/x-python",
   "name": "python",
   "nbconvert_exporter": "python",
   "pygments_lexer": "ipython3",
   "version": "3.8.8"
  }
 },
 "nbformat": 4,
 "nbformat_minor": 5
}
